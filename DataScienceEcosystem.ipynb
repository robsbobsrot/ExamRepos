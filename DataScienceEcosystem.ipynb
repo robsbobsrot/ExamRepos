{
 "cells": [
  {
   "cell_type": "markdown",
   "id": "18496f0b-931c-4508-b762-cf5b3d2f05cc",
   "metadata": {},
   "source": [
    "# Data Science Tools and Ecosystem"
   ]
  },
  {
   "cell_type": "markdown",
   "id": "7d6b9811-d550-4ad9-bcfb-27932018c507",
   "metadata": {},
   "source": [
    "**Objectives:**\n",
    "- popular languages used in data science\n",
    "- commonly used libraries in data science\n",
    "- data science tools \n",
    "- simple coding with arithmetic expressions"
   ]
  },
  {
   "cell_type": "markdown",
   "id": "f9ad3f1a-0cf9-4b6e-9ebe-a1b7fa669a8e",
   "metadata": {},
   "source": [
    "In this Notebook, data science tools and ecosystems are summarized. "
   ]
  },
  {
   "cell_type": "markdown",
   "id": "fd2ab128-758d-438e-8804-6b703ff2992a",
   "metadata": {},
   "source": [
    "Some of the popular languages that data scientists use are:\n",
    "1. Python\n",
    "2. R\n",
    "3. SQL "
   ]
  },
  {
   "cell_type": "markdown",
   "id": "8411d13f-0a48-4358-9c2a-ea614fbc08db",
   "metadata": {},
   "source": [
    "Some of the commonly used libraries in data science include\n",
    "1. Pandas\n",
    "2. Matplotlib\n",
    "3. Scikit learn "
   ]
  },
  {
   "cell_type": "markdown",
   "id": "6ac69611-23fb-4dfc-a06a-d02e91107403",
   "metadata": {},
   "source": [
    "|*Data Science Tools*|\n",
    "|-|\n",
    "|GoogleColab|\n",
    "|VisualStudio|\n",
    "|JupyterLab|"
   ]
  },
  {
   "cell_type": "markdown",
   "id": "e6b83cad-0335-4118-bd26-9bb7ad74c8b5",
   "metadata": {},
   "source": [
    "### Below are few examples of arithmetic expressions in Python"
   ]
  },
  {
   "cell_type": "code",
   "execution_count": 1,
   "id": "e643c676-b430-4040-858e-05bd993ae6af",
   "metadata": {},
   "outputs": [
    {
     "data": {
      "text/plain": [
       "17"
      ]
     },
     "execution_count": 1,
     "metadata": {},
     "output_type": "execute_result"
    }
   ],
   "source": [
    "#This is a simple arithmetic expression\n",
    "(3*4)+5"
   ]
  },
  {
   "cell_type": "code",
   "execution_count": 2,
   "id": "ec1a39f6-1bc1-4e1a-8cca-27827e344457",
   "metadata": {},
   "outputs": [
    {
     "name": "stdout",
     "output_type": "stream",
     "text": [
      "3.3333333333333335\n"
     ]
    }
   ],
   "source": [
    "#This code will convert 200 minutes into hours by dividing by 60\n",
    "hours = 200/60\n",
    "print(hours)"
   ]
  },
  {
   "cell_type": "markdown",
   "id": "5eae84e4-6a5e-4cbc-870f-bf929ed2bb45",
   "metadata": {},
   "source": [
    "## Author\n",
    "Robyn"
   ]
  },
  {
   "cell_type": "code",
   "execution_count": null,
   "id": "37ad2809-8e2c-4481-b448-99585f297431",
   "metadata": {},
   "outputs": [],
   "source": []
  }
 ],
 "metadata": {
  "kernelspec": {
   "display_name": "anaconda-2022.05-py39",
   "language": "python",
   "name": "conda-env-anaconda-2022.05-py39-py"
  },
  "language_info": {
   "codemirror_mode": {
    "name": "ipython",
    "version": 3
   },
   "file_extension": ".py",
   "mimetype": "text/x-python",
   "name": "python",
   "nbconvert_exporter": "python",
   "pygments_lexer": "ipython3",
   "version": "3.9.12"
  }
 },
 "nbformat": 4,
 "nbformat_minor": 5
}
